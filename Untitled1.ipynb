{
 "cells": [
  {
   "cell_type": "code",
   "execution_count": 9,
   "id": "assured-marriage",
   "metadata": {},
   "outputs": [],
   "source": [
    "import tldextract\n",
    "import pythonwhois"
   ]
  },
  {
   "cell_type": "code",
   "execution_count": 3,
   "id": "continent-emission",
   "metadata": {},
   "outputs": [
    {
     "data": {
      "text/plain": [
       "'bbc.co.uk'"
      ]
     },
     "execution_count": 3,
     "metadata": {},
     "output_type": "execute_result"
    }
   ],
   "source": [
    "ext = tldextract.extract('http://forums.bbc.co.uk')\n"
   ]
  },
  {
   "cell_type": "code",
   "execution_count": 10,
   "id": "affiliated-chancellor",
   "metadata": {},
   "outputs": [
    {
     "data": {
      "text/plain": [
       "{'expiration_date': [datetime.datetime(2025, 12, 13, 0, 0)],\n",
       " 'updated_date': [datetime.datetime(2020, 12, 10, 0, 0)],\n",
       " 'nameservers': ['ddns0.bbc.co.uk',\n",
       "  'ddns1.bbc.co.uk',\n",
       "  'dns0.bbc.co.uk',\n",
       "  'dns1.bbc.co.uk',\n",
       "  'ddns0.bbc.com',\n",
       "  'ddns1.bbc.com',\n",
       "  'dns0.bbc.com',\n",
       "  'dns1.bbc.com'],\n",
       " 'registrar': ['British Broadcasting Corporation [Tag = BBC]'],\n",
       " 'status': ['Registered until expiry date.'],\n",
       " 'contacts': {'registrant': None,\n",
       "  'tech': None,\n",
       "  'admin': None,\n",
       "  'billing': None},\n",
       " 'raw': [\"\\n    Domain name:\\n        bbc.co.uk\\n\\n    Data validation:\\n        Nominet was able to match the registrant's name and address against a 3rd party data source on 12-Jun-2014\\n\\n    Registrar:\\n        British Broadcasting Corporation [Tag = BBC]\\n        URL: http://www.bbc.co.uk\\n\\n    Relevant dates:\\n        Registered on: before Aug-1996\\n        Expiry date:  13-Dec-2025\\n        Last updated:  10-Dec-2020\\n\\n    Registration status:\\n        Registered until expiry date.\\n\\n    Name servers:\\n        ddns0.bbc.co.uk           148.163.199.1  2607:f740:e04e::1\\n        ddns0.bbc.com\\n        ddns1.bbc.co.uk           148.163.199.65  2607:f740:e04e:4::1\\n        ddns1.bbc.com\\n        dns0.bbc.co.uk            198.51.44.9  2620:4d:4000:6259:7:9:0:1\\n        dns0.bbc.com\\n        dns1.bbc.co.uk            198.51.45.9  2a00:edc0:6259:7:9::2\\n        dns1.bbc.com\\n\\n    WHOIS lookup made at 02:53:25 24-Nov-2021\\n\\n-- \\nThis WHOIS information is provided for free by Nominet UK the central registry\\nfor .uk domain names. This information and the .uk WHOIS are:\\n\\n    Copyright Nominet UK 1996 - 2021.\\n\\nYou may not access the .uk WHOIS or use any data from it except as permitted\\nby the terms of use available in full at https://www.nominet.uk/whoisterms,\\nwhich includes restrictions on: (A) use of the data for advertising, or its\\nrepackaging, recompilation, redistribution or reuse (B) obscuring, removing\\nor hiding any or all of this notice and (C) exceeding query rate or volume\\nlimits. The data is provided on an 'as-is' basis and may lag behind the\\nregister. Access may be withdrawn or restricted at any time.\\n\"]}"
      ]
     },
     "execution_count": 10,
     "metadata": {},
     "output_type": "execute_result"
    }
   ],
   "source": [
    "pythonwhois.get_whois(ext.registered_domain)"
   ]
  },
  {
   "cell_type": "code",
   "execution_count": null,
   "id": "sized-cliff",
   "metadata": {},
   "outputs": [],
   "source": []
  }
 ],
 "metadata": {
  "kernelspec": {
   "display_name": "Python 3",
   "language": "python",
   "name": "python3"
  },
  "language_info": {
   "codemirror_mode": {
    "name": "ipython",
    "version": 3
   },
   "file_extension": ".py",
   "mimetype": "text/x-python",
   "name": "python",
   "nbconvert_exporter": "python",
   "pygments_lexer": "ipython3",
   "version": "3.8.4rc1"
  }
 },
 "nbformat": 4,
 "nbformat_minor": 5
}
